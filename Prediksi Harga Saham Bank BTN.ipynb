{
 "cells": [
  {
   "cell_type": "code",
   "execution_count": 1,
   "id": "4ed4645e",
   "metadata": {},
   "outputs": [],
   "source": [
    "from pyspark.sql import SparkSession"
   ]
  },
  {
   "cell_type": "code",
   "execution_count": 2,
   "id": "a4e37a18",
   "metadata": {},
   "outputs": [],
   "source": [
    "spark = SparkSession.builder.appName(\"linearRegression\").getOrCreate()"
   ]
  },
  {
   "cell_type": "code",
   "execution_count": 3,
   "id": "eb8d6bed",
   "metadata": {},
   "outputs": [],
   "source": [
    "from pyspark.ml.regression import LinearRegression"
   ]
  },
  {
   "cell_type": "code",
   "execution_count": 4,
   "id": "9ebeabfb",
   "metadata": {},
   "outputs": [],
   "source": [
    "data = spark.read.csv('btn.csv',inferSchema =True, header=True)"
   ]
  },
  {
   "cell_type": "code",
   "execution_count": 5,
   "id": "50479c72",
   "metadata": {
    "scrolled": true
   },
   "outputs": [
    {
     "name": "stdout",
     "output_type": "stream",
     "text": [
      "root\n",
      " |-- pembukaan: integer (nullable = true)\n",
      " |-- tertinggi: integer (nullable = true)\n",
      " |-- terendah: integer (nullable = true)\n",
      " |-- penutupan: integer (nullable = true)\n",
      " |-- volume: integer (nullable = true)\n",
      " |-- nilai: long (nullable = true)\n",
      " |-- frekuensi: integer (nullable = true)\n",
      "\n"
     ]
    }
   ],
   "source": [
    "data.printSchema()"
   ]
  },
  {
   "cell_type": "code",
   "execution_count": 6,
   "id": "b84adc73",
   "metadata": {},
   "outputs": [
    {
     "name": "stdout",
     "output_type": "stream",
     "text": [
      "+---------+---------+--------+---------+--------+-----------+---------+\n",
      "|pembukaan|tertinggi|terendah|penutupan|  volume|      nilai|frekuensi|\n",
      "+---------+---------+--------+---------+--------+-----------+---------+\n",
      "|     1220|     1230|    1220|     1230| 3115100| 3820350000|      776|\n",
      "|     1235|     1235|    1215|     1220| 8122300| 9931786500|     1685|\n",
      "|     1230|     1240|    1220|     1230| 7070600| 8695708500|     1147|\n",
      "|     1210|     1235|    1210|     1225|16704500|20467481000|     1758|\n",
      "|     1205|     1210|    1195|     1195| 9472900|11350644500|     2132|\n",
      "|     1220|     1220|    1200|     1205| 8649300|10435545500|     1678|\n",
      "|     1220|     1225|    1205|     1210|11109600|13463535000|     2499|\n",
      "|     1220|     1230|    1210|     1220|18702700|22756047000|     3203|\n",
      "|     1260|     1265|    1225|     1225|22094100|27265348000|     4244|\n",
      "|     1285|     1285|    1260|     1265| 8324200|10564550500|     2122|\n",
      "|     1290|     1290|    1275|     1285|11062900|14187152000|     1588|\n",
      "|     1275|     1290|    1270|     1290|13557100|17373067000|     2030|\n",
      "|     1295|     1300|    1265|     1270|18840100|24221277500|     2385|\n",
      "|     1280|     1295|    1270|     1295|17928400|23081837500|     1411|\n",
      "|     1300|     1300|    1270|     1280|12237200|15667166500|     2984|\n",
      "|     1295|     1305|    1290|     1295|26158700|33887125500|     2715|\n",
      "|     1265|     1295|    1265|     1290|24245600|31193461500|     2685|\n",
      "|     1270|     1275|    1255|     1265| 8861000|11191928000|     1310|\n",
      "|     1260|     1280|    1260|     1270| 9032800|11487022000|     1207|\n",
      "|     1255|     1265|    1250|     1260|10704200|13443927000|     1169|\n",
      "+---------+---------+--------+---------+--------+-----------+---------+\n",
      "only showing top 20 rows\n",
      "\n"
     ]
    }
   ],
   "source": [
    "data.show()"
   ]
  },
  {
   "cell_type": "code",
   "execution_count": 7,
   "id": "17901f20",
   "metadata": {},
   "outputs": [
    {
     "data": {
      "text/plain": [
       "Row(pembukaan=1220, tertinggi=1230, terendah=1220, penutupan=1230, volume=3115100, nilai=3820350000, frekuensi=776)"
      ]
     },
     "execution_count": 7,
     "metadata": {},
     "output_type": "execute_result"
    }
   ],
   "source": [
    "data.head(1)[0]"
   ]
  },
  {
   "cell_type": "code",
   "execution_count": 8,
   "id": "988d3734",
   "metadata": {},
   "outputs": [
    {
     "name": "stdout",
     "output_type": "stream",
     "text": [
      "1220\n",
      "1230\n",
      "1220\n",
      "1230\n",
      "3115100\n",
      "3820350000\n",
      "776\n"
     ]
    }
   ],
   "source": [
    "for item in data.head(1)[0]:\n",
    "    print(item)"
   ]
  },
  {
   "cell_type": "code",
   "execution_count": 9,
   "id": "7ca44bed",
   "metadata": {},
   "outputs": [],
   "source": [
    "from pyspark.ml.linalg import Vectors"
   ]
  },
  {
   "cell_type": "code",
   "execution_count": 10,
   "id": "740739af",
   "metadata": {},
   "outputs": [],
   "source": [
    "from pyspark.ml.feature import VectorAssembler"
   ]
  },
  {
   "cell_type": "code",
   "execution_count": 11,
   "id": "efe7d02e",
   "metadata": {},
   "outputs": [
    {
     "data": {
      "text/plain": [
       "['pembukaan',\n",
       " 'tertinggi',\n",
       " 'terendah',\n",
       " 'penutupan',\n",
       " 'volume',\n",
       " 'nilai',\n",
       " 'frekuensi']"
      ]
     },
     "execution_count": 11,
     "metadata": {},
     "output_type": "execute_result"
    }
   ],
   "source": [
    "data.columns"
   ]
  },
  {
   "cell_type": "code",
   "execution_count": 12,
   "id": "6e059f19",
   "metadata": {},
   "outputs": [],
   "source": [
    "assembler = VectorAssembler(inputCols=['pembukaan',\n",
    " 'tertinggi',\n",
    " 'terendah',\n",
    " 'penutupan',\n",
    " 'volume',\n",
    " 'nilai',\n",
    " 'frekuensi'],outputCol= 'features')"
   ]
  },
  {
   "cell_type": "code",
   "execution_count": 13,
   "id": "ed3f963b",
   "metadata": {},
   "outputs": [],
   "source": [
    "output = assembler.transform(data)"
   ]
  },
  {
   "cell_type": "code",
   "execution_count": 14,
   "id": "815ee0b0",
   "metadata": {},
   "outputs": [
    {
     "data": {
      "text/plain": [
       "[Row(pembukaan=1220, tertinggi=1230, terendah=1220, penutupan=1230, volume=3115100, nilai=3820350000, frekuensi=776, features=DenseVector([1220.0, 1230.0, 1220.0, 1230.0, 3115100.0, 3820350000.0, 776.0]))]"
      ]
     },
     "execution_count": 14,
     "metadata": {},
     "output_type": "execute_result"
    }
   ],
   "source": [
    "output.head(1)"
   ]
  },
  {
   "cell_type": "code",
   "execution_count": 15,
   "id": "2100b717",
   "metadata": {},
   "outputs": [],
   "source": [
    "final_data = output.select('features', 'penutupan')"
   ]
  },
  {
   "cell_type": "code",
   "execution_count": 16,
   "id": "477b2d8b",
   "metadata": {},
   "outputs": [
    {
     "name": "stdout",
     "output_type": "stream",
     "text": [
      "+--------------------+---------+\n",
      "|            features|penutupan|\n",
      "+--------------------+---------+\n",
      "|[1220.0,1230.0,12...|     1230|\n",
      "|[1235.0,1235.0,12...|     1220|\n",
      "|[1230.0,1240.0,12...|     1230|\n",
      "|[1210.0,1235.0,12...|     1225|\n",
      "|[1205.0,1210.0,11...|     1195|\n",
      "|[1220.0,1220.0,12...|     1205|\n",
      "|[1220.0,1225.0,12...|     1210|\n",
      "|[1220.0,1230.0,12...|     1220|\n",
      "|[1260.0,1265.0,12...|     1225|\n",
      "|[1285.0,1285.0,12...|     1265|\n",
      "|[1290.0,1290.0,12...|     1285|\n",
      "|[1275.0,1290.0,12...|     1290|\n",
      "|[1295.0,1300.0,12...|     1270|\n",
      "|[1280.0,1295.0,12...|     1295|\n",
      "|[1300.0,1300.0,12...|     1280|\n",
      "|[1295.0,1305.0,12...|     1295|\n",
      "|[1265.0,1295.0,12...|     1290|\n",
      "|[1270.0,1275.0,12...|     1265|\n",
      "|[1260.0,1280.0,12...|     1270|\n",
      "|[1255.0,1265.0,12...|     1260|\n",
      "+--------------------+---------+\n",
      "only showing top 20 rows\n",
      "\n"
     ]
    }
   ],
   "source": [
    "final_data.show()"
   ]
  },
  {
   "cell_type": "code",
   "execution_count": 17,
   "id": "9d9e7faa",
   "metadata": {},
   "outputs": [],
   "source": [
    "train_data, test_data = final_data.randomSplit([0.7,0.3])"
   ]
  },
  {
   "cell_type": "code",
   "execution_count": 18,
   "id": "83d8d2ce",
   "metadata": {},
   "outputs": [
    {
     "data": {
      "image/png": "[encoded data removed]",
      "text/plain": [
       "<Figure size 1000x600 with 1 Axes>"
      ]
     },
     "metadata": {},
     "output_type": "display_data"
    }
   ],
   "source": [
    "import matplotlib.pyplot as plt\n",
    "\n",
    "# Ambil kolom yang ingin dibandingkan ('penutupan')\n",
    "column_to_compare = 'penutupan'\n",
    "\n",
    "# Konversi DataFrame Spark ke Pandas untuk plotting\n",
    "train_data_pd = train_data.select(column_to_compare).toPandas()\n",
    "test_data_pd = test_data.select(column_to_compare).toPandas()\n",
    "\n",
    "# Plot histogram\n",
    "plt.figure(figsize=(10, 6))\n",
    "\n",
    "plt.hist(train_data_pd[column_to_compare], bins=20, alpha=0.5, label='Train Data')\n",
    "plt.hist(test_data_pd[column_to_compare], bins=20, alpha=0.5, label='Test Data')\n",
    "\n",
    "plt.xlabel(column_to_compare)\n",
    "plt.ylabel('Frequency')\n",
    "plt.title(f'Histogram Comparison between Train and Test Data ({column_to_compare})')\n",
    "plt.legend()\n",
    "\n",
    "plt.show()\n",
    "\n"
   ]
  },
  {
   "cell_type": "code",
   "execution_count": 19,
   "id": "158ac952",
   "metadata": {},
   "outputs": [
    {
     "name": "stdout",
     "output_type": "stream",
     "text": [
      "+-------+------------------+\n",
      "|summary|         penutupan|\n",
      "+-------+------------------+\n",
      "|  count|               723|\n",
      "|   mean|1498.9626556016597|\n",
      "| stddev|  281.677975679615|\n",
      "|    min|               745|\n",
      "|    max|              2160|\n",
      "+-------+------------------+\n",
      "\n"
     ]
    }
   ],
   "source": [
    "train_data.describe().show()"
   ]
  },
  {
   "cell_type": "code",
   "execution_count": 20,
   "id": "7c9a85aa",
   "metadata": {},
   "outputs": [],
   "source": [
    "lr = LinearRegression(labelCol=\"penutupan\")"
   ]
  },
  {
   "cell_type": "code",
   "execution_count": 25,
   "id": "2966920f",
   "metadata": {},
   "outputs": [],
   "source": [
    "lr_model = lr.fit(train_data)"
   ]
  },
  {
   "cell_type": "code",
   "execution_count": 26,
   "id": "8b9f7af3",
   "metadata": {},
   "outputs": [
    {
     "name": "stdout",
     "output_type": "stream",
     "text": [
      "intercept: -1.2519877989425772e-11\n",
      "feature1: -2.2534590636530504e-16\n",
      "feature2: 1.3743436534572607e-13\n",
      "feature3: 1.088538081101196e-13\n",
      "feature4: 0.999999999999762\n",
      "feature5: 1.2162404206757784e-19\n",
      "feature6: -1.6920187596648242e-23\n",
      "feature7: -9.799910826612075e-16\n"
     ]
    }
   ],
   "source": [
    "# Mendapatkan koefisien dari model regresi\n",
    "coefficients = lr_model.coefficients\n",
    "\n",
    "# Menyusun koefisien dan nama variabel ke dalam dictionary\n",
    "coef_dict = {'intercept': lr_model.intercept}\n",
    "for i, coef in enumerate(coefficients):\n",
    "    coef_dict[f'feature{i+1}'] = coef\n",
    "\n",
    "# Tampilkan koefisien untuk setiap variabel\n",
    "for variable, coef in coef_dict.items():\n",
    "    print(f'{variable}: {coef}')\n"
   ]
  },
  {
   "cell_type": "code",
   "execution_count": 27,
   "id": "2e92e65e",
   "metadata": {},
   "outputs": [],
   "source": [
    "test_results = lr_model.evaluate(test_data)"
   ]
  },
  {
   "cell_type": "code",
   "execution_count": 28,
   "id": "defe1430",
   "metadata": {},
   "outputs": [
    {
     "name": "stdout",
     "output_type": "stream",
     "text": [
      "+--------------------+\n",
      "|           residuals|\n",
      "+--------------------+\n",
      "|-4.18367562815547...|\n",
      "|3.183231456205249...|\n",
      "|-2.16004991671070...|\n",
      "|3.183231456205249...|\n",
      "|1.591615728102624...|\n",
      "|2.387423592153936...|\n",
      "|1.068656274583190...|\n",
      "|2.046363078989088...|\n",
      "|1.011812855722382...|\n",
      "|1.432454155292362...|\n",
      "|-4.66116034658625...|\n",
      "|-2.30784280574880...|\n",
      "|-6.36646291241049...|\n",
      "|-1.43245415529236...|\n",
      "|-5.91171556152403...|\n",
      "|-2.25099938688799...|\n",
      "|-9.09494701772928...|\n",
      "|5.229594535194337...|\n",
      "|-4.09272615797817...|\n",
      "|-2.27373675443232...|\n",
      "|-1.75077730091288...|\n",
      "|-6.36646291241049...|\n",
      "|-1.81898940354585...|\n",
      "|1.818989403545856...|\n",
      "|2.273736754432320...|\n",
      "|9.094947017729282...|\n",
      "|-2.04636307898908...|\n",
      "|3.865352482534945...|\n",
      "|2.273736754432320...|\n",
      "|2.728484105318784...|\n",
      "|                 0.0|\n",
      "|2.955857780762016...|\n",
      "|-3.18323145620524...|\n",
      "|1.136868377216160...|\n",
      "|3.637978807091713...|\n",
      "|3.865352482534945...|\n",
      "|3.865352482534945...|\n",
      "|9.094947017729282...|\n",
      "|-2.72848410531878...|\n",
      "|4.320099833421409...|\n",
      "|3.865352482534945...|\n",
      "|7.958078640513122...|\n",
      "|3.183231456205249...|\n",
      "|                 0.0|\n",
      "|2.501110429875552...|\n",
      "|1.136868377216160...|\n",
      "|2.273736754432320...|\n",
      "|4.547473508864641...|\n",
      "|4.320099833421409...|\n",
      "|2.955857780762016...|\n",
      "|4.092726157978177...|\n",
      "|2.273736754432320...|\n",
      "|1.591615728102624...|\n",
      "|2.501110429875552...|\n",
      "|6.821210263296962...|\n",
      "|6.366462912410498...|\n",
      "|5.456968210637569...|\n",
      "|3.637978807091713...|\n",
      "|1.591615728102624...|\n",
      "|4.320099833421409...|\n",
      "|2.728484105318784...|\n",
      "|-1.13686837721616...|\n",
      "|-1.36424205265939...|\n",
      "|3.865352482534945...|\n",
      "|3.865352482534945...|\n",
      "|2.273736754432320...|\n",
      "|3.637978807091713...|\n",
      "|6.821210263296962...|\n",
      "|5.684341886080801...|\n",
      "|6.821210263296962...|\n",
      "|6.821210263296962...|\n",
      "|9.094947017729282...|\n",
      "|1.364242052659392...|\n",
      "|4.320099833421409...|\n",
      "|2.955857780762016...|\n",
      "|-2.27373675443232...|\n",
      "|2.955857780762016...|\n",
      "|4.092726157978177...|\n",
      "|9.094947017729282...|\n",
      "|3.183231456205249...|\n",
      "|-1.13686837721616...|\n",
      "|3.410605131648481...|\n",
      "|2.955857780762016...|\n",
      "|4.547473508864641...|\n",
      "|2.501110429875552...|\n",
      "|2.728484105318784...|\n",
      "|-1.13686837721616...|\n",
      "|1.591615728102624...|\n",
      "|2.501110429875552...|\n",
      "|5.456968210637569...|\n",
      "|3.410605131648481...|\n",
      "|4.092726157978177...|\n",
      "|1.136868377216160...|\n",
      "|9.094947017729282...|\n",
      "|2.273736754432320...|\n",
      "|2.273736754432320...|\n",
      "|-1.43245415529236...|\n",
      "|1.591615728102624...|\n",
      "|9.094947017729282...|\n",
      "|2.728484105318784...|\n",
      "|-2.95585778076201...|\n",
      "|9.094947017729282...|\n",
      "|3.637978807091713...|\n",
      "|5.229594535194337...|\n",
      "|7.275957614183426...|\n",
      "|-4.54747350886464...|\n",
      "|5.002220859751105...|\n",
      "|1.136868377216160...|\n",
      "|4.547473508864641...|\n",
      "|1.818989403545856...|\n",
      "|6.821210263296962...|\n",
      "|4.547473508864641...|\n",
      "|9.094947017729282...|\n",
      "|-4.54747350886464...|\n",
      "|-1.81898940354585...|\n",
      "|2.273736754432320...|\n",
      "|4.320099833421409...|\n",
      "|4.547473508864641...|\n",
      "|6.821210263296962...|\n",
      "|-6.82121026329696...|\n",
      "|2.955857780762016...|\n",
      "|1.818989403545856...|\n",
      "|2.501110429875552...|\n",
      "|-1.36424205265939...|\n",
      "|-2.27373675443232...|\n",
      "|2.273736754432320...|\n",
      "|2.728484105318784...|\n",
      "|2.728484105318784...|\n",
      "|-4.54747350886464...|\n",
      "|-3.63797880709171...|\n",
      "|-1.59161572810262...|\n",
      "|6.821210263296962...|\n",
      "|2.728484105318784...|\n",
      "|1.591615728102624...|\n",
      "|                 0.0|\n",
      "|1.591615728102624...|\n",
      "|-1.59161572810262...|\n",
      "|                 0.0|\n",
      "|-5.22959453519433...|\n",
      "|                 0.0|\n",
      "|-4.54747350886464...|\n",
      "|-1.65982783073559...|\n",
      "|9.777068044058979...|\n",
      "|-1.81898940354585...|\n",
      "|-1.36424205265939...|\n",
      "|3.410605131648481...|\n",
      "|-2.72848410531878...|\n",
      "|4.547473508864641...|\n",
      "|2.273736754432320...|\n",
      "|-4.54747350886464...|\n",
      "|3.410605131648481...|\n",
      "|4.547473508864641...|\n",
      "|1.818989403545856...|\n",
      "|2.273736754432320...|\n",
      "|2.046363078989088...|\n",
      "|3.637978807091713...|\n",
      "|3.183231456205249...|\n",
      "|-2.27373675443232...|\n",
      "|2.955857780762016...|\n",
      "|2.728484105318784...|\n",
      "|-3.41060513164848...|\n",
      "|-2.95585778076201...|\n",
      "|-4.54747350886464...|\n",
      "|5.002220859751105...|\n",
      "|-2.95585778076201...|\n",
      "|1.591615728102624...|\n",
      "|6.821210263296962...|\n",
      "|-2.27373675443232...|\n",
      "|2.955857780762016...|\n",
      "|2.137312549166381...|\n",
      "|2.273736754432320...|\n",
      "|1.045918907038867...|\n",
      "|-1.81898940354585...|\n",
      "|4.547473508864641...|\n",
      "|6.821210263296962...|\n",
      "|-1.81898940354585...|\n",
      "|-4.32009983342140...|\n",
      "|-1.36424205265939...|\n",
      "|-1.13686837721616...|\n",
      "|9.094947017729282...|\n",
      "|1.591615728102624...|\n",
      "|-2.72848410531878...|\n",
      "|1.136868377216160...|\n",
      "|6.59383658785373E-12|\n",
      "|2.501110429875552...|\n",
      "|1.364242052659392...|\n",
      "|-3.41060513164848...|\n",
      "|-5.22959453519433...|\n",
      "|-4.09272615797817...|\n",
      "|3.637978807091713...|\n",
      "|-1.63709046319127...|\n",
      "|-4.32009983342140...|\n",
      "|                 0.0|\n",
      "|-2.50111042987555...|\n",
      "|-4.77484718430787...|\n",
      "|4.547473508864641...|\n",
      "|-2.95585778076201...|\n",
      "|-3.63797880709171...|\n",
      "|-1.59161572810262...|\n",
      "|-2.27373675443232...|\n",
      "|2.273736754432320...|\n",
      "|-1.13686837721616...|\n",
      "|-1.81898940354585...|\n",
      "|4.092726157978177...|\n",
      "|4.092726157978177...|\n",
      "|-2.95585778076201...|\n",
      "|5.684341886080801...|\n",
      "|-4.54747350886464...|\n",
      "|2.046363078989088...|\n",
      "|2.273736754432320...|\n",
      "|-2.04636307898908...|\n",
      "|-6.82121026329696...|\n",
      "|-5.00222085975110...|\n",
      "|-9.09494701772928...|\n",
      "|3.410605131648481...|\n",
      "|-2.04636307898908...|\n",
      "|-2.72848410531878...|\n",
      "|-1.36424205265939...|\n",
      "|-9.09494701772928...|\n",
      "|-2.72848410531878...|\n",
      "|2.273736754432320...|\n",
      "|-1.81898940354585...|\n",
      "|1.045918907038867...|\n",
      "|1.045918907038867...|\n",
      "|-1.20508047984912...|\n",
      "|-2.27373675443232...|\n",
      "|-3.18323145620524...|\n",
      "|-4.09272615797817...|\n",
      "|-2.72848410531878...|\n",
      "|-7.04858393874019...|\n",
      "|-5.00222085975110...|\n",
      "|2.046363078989088...|\n",
      "|1.364242052659392...|\n",
      "|-9.09494701772928...|\n",
      "|2.728484105318784...|\n",
      "|-4.54747350886464...|\n",
      "|2.728484105318784...|\n",
      "|-8.86757334228605...|\n",
      "|-5.00222085975110...|\n",
      "|9.094947017729282...|\n",
      "|-2.72848410531878...|\n",
      "|-3.86535248253494...|\n",
      "|-5.45696821063756...|\n",
      "|4.547473508864641...|\n",
      "|-4.77484718430787...|\n",
      "|-3.41060513164848...|\n",
      "|2.046363078989088...|\n",
      "|-3.63797880709171...|\n",
      "|-5.22959453519433...|\n",
      "|-1.36424205265939...|\n",
      "|-4.09272615797817...|\n",
      "|-4.54747350886464...|\n",
      "|-1.81898940354585...|\n",
      "|-7.27595761418342...|\n",
      "|-6.82121026329696...|\n",
      "|1.591615728102624...|\n",
      "|-7.04858393874019...|\n",
      "|9.094947017729282...|\n",
      "|3.865352482534945...|\n",
      "|-3.86535248253494...|\n",
      "|-9.54969436861574...|\n",
      "|-3.18323145620524...|\n",
      "|-8.41282599139958...|\n",
      "|-5.68434188608080...|\n",
      "|-6.36646291241049...|\n",
      "|1.591615728102624...|\n",
      "|-4.54747350886464...|\n",
      "|-4.32009983342140...|\n",
      "|-4.32009983342140...|\n",
      "|4.547473508864641...|\n",
      "|-6.36646291241049...|\n",
      "|-8.64019966684281...|\n",
      "|4.547473508864641...|\n",
      "|-2.72848410531878...|\n",
      "|-4.54747350886464...|\n",
      "|-2.27373675443232...|\n",
      "|9.094947017729282...|\n",
      "|-6.36646291241049...|\n",
      "|-6.36646291241049...|\n",
      "+--------------------+\n",
      "\n"
     ]
    }
   ],
   "source": [
    "test_results.residuals.show(n=1004)"
   ]
  },
  {
   "cell_type": "code",
   "execution_count": 29,
   "id": "446b74a1",
   "metadata": {},
   "outputs": [
    {
     "data": {
      "image/png": "[encoded data removed]",
      "text/plain": [
       "<Figure size 640x480 with 1 Axes>"
      ]
     },
     "metadata": {},
     "output_type": "display_data"
    }
   ],
   "source": [
    "import matplotlib.pyplot as plt\n",
    "\n",
    "# Dapatkan residual dari hasil evaluasi\n",
    "residuals = test_results.residuals.toPandas()[\"residuals\"]\n",
    "\n",
    "# Buat histogram residual\n",
    "plt.hist(residuals, bins=20, color='blue', alpha=0.7)\n",
    "plt.xlabel('Residual Value')\n",
    "plt.ylabel('Penutupan')\n",
    "plt.title('Histogram of Residuals')\n",
    "plt.show()\n",
    "\n"
   ]
  },
  {
   "cell_type": "code",
   "execution_count": null,
   "id": "8a6aab1f",
   "metadata": {},
   "outputs": [],
   "source": []
  },
  {
   "cell_type": "code",
   "execution_count": 30,
   "id": "99f4c57b",
   "metadata": {},
   "outputs": [
    {
     "data": {
      "image/png": "[encoded data removed]",
      "text/plain": [
       "<Figure size 640x480 with 1 Axes>"
      ]
     },
     "metadata": {},
     "output_type": "display_data"
    }
   ],
   "source": [
    "import scipy.stats as stats\n",
    "\n",
    "\n",
    "# Create Q-Q plot\n",
    "stats.probplot(residuals, dist=\"norm\", plot=plt)\n",
    "plt.title('Q-Q Plot of Residuals')\n",
    "plt.show()\n"
   ]
  },
  {
   "cell_type": "code",
   "execution_count": 31,
   "id": "16b21560",
   "metadata": {},
   "outputs": [
    {
     "data": {
      "text/plain": [
       "5.532194238147449e-12"
      ]
     },
     "execution_count": 31,
     "metadata": {},
     "output_type": "execute_result"
    }
   ],
   "source": [
    "test_results.rootMeanSquaredError"
   ]
  },
  {
   "cell_type": "code",
   "execution_count": 32,
   "id": "20edea41",
   "metadata": {},
   "outputs": [
    {
     "data": {
      "text/plain": [
       "1.0"
      ]
     },
     "execution_count": 32,
     "metadata": {},
     "output_type": "execute_result"
    }
   ],
   "source": [
    "test_results.r2"
   ]
  },
  {
   "cell_type": "code",
   "execution_count": 33,
   "id": "210d9c39",
   "metadata": {},
   "outputs": [
    {
     "name": "stdout",
     "output_type": "stream",
     "text": [
      "+-------+------------------+\n",
      "|summary|         penutupan|\n",
      "+-------+------------------+\n",
      "|  count|              1002|\n",
      "|   mean|1493.8373253493014|\n",
      "| stddev|280.35392303634734|\n",
      "|    min|               745|\n",
      "|    max|              2160|\n",
      "+-------+------------------+\n",
      "\n"
     ]
    }
   ],
   "source": [
    "final_data.describe().show()"
   ]
  },
  {
   "cell_type": "code",
   "execution_count": 34,
   "id": "2f29107c",
   "metadata": {},
   "outputs": [],
   "source": [
    "unlabeled_data = test_data.select('features')"
   ]
  },
  {
   "cell_type": "code",
   "execution_count": 35,
   "id": "04df92a2",
   "metadata": {},
   "outputs": [
    {
     "name": "stdout",
     "output_type": "stream",
     "text": [
      "+--------------------+\n",
      "|            features|\n",
      "+--------------------+\n",
      "|[0.0,810.0,760.0,...|\n",
      "|[0.0,820.0,785.0,...|\n",
      "|[0.0,825.0,770.0,...|\n",
      "|[0.0,870.0,820.0,...|\n",
      "|[0.0,880.0,840.0,...|\n",
      "|[0.0,900.0,880.0,...|\n",
      "|[0.0,935.0,850.0,...|\n",
      "|[0.0,945.0,910.0,...|\n",
      "|[0.0,995.0,925.0,...|\n",
      "|[0.0,1010.0,900.0...|\n",
      "|[0.0,1050.0,1005....|\n",
      "|[0.0,1085.0,950.0...|\n",
      "|[0.0,1100.0,975.0...|\n",
      "|[0.0,1120.0,1015....|\n",
      "|[0.0,1160.0,1080....|\n",
      "|[0.0,1185.0,1060....|\n",
      "|[0.0,1230.0,1160....|\n",
      "|[0.0,1240.0,1185....|\n",
      "|[0.0,1265.0,1225....|\n",
      "|[0.0,1265.0,1230....|\n",
      "+--------------------+\n",
      "only showing top 20 rows\n",
      "\n"
     ]
    }
   ],
   "source": [
    "unlabeled_data.show()\n"
   ]
  },
  {
   "cell_type": "code",
   "execution_count": 36,
   "id": "7a4218ac",
   "metadata": {},
   "outputs": [],
   "source": [
    "predictions = lr_model.transform(unlabeled_data)"
   ]
  },
  {
   "cell_type": "code",
   "execution_count": 37,
   "id": "90608932",
   "metadata": {},
   "outputs": [
    {
     "name": "stdout",
     "output_type": "stream",
     "text": [
      "+--------------------+------------------+\n",
      "|            features|        prediction|\n",
      "+--------------------+------------------+\n",
      "|[0.0,810.0,760.0,...| 760.0000000000418|\n",
      "|[0.0,820.0,785.0,...| 809.9999999999968|\n",
      "|[0.0,825.0,770.0,...| 780.0000000000022|\n",
      "|[0.0,870.0,820.0,...| 839.9999999999968|\n",
      "|[0.0,880.0,840.0,...| 844.9999999999984|\n",
      "|[0.0,900.0,880.0,...| 879.9999999999976|\n",
      "|[0.0,935.0,850.0,...| 919.9999999999893|\n",
      "|[0.0,945.0,910.0,...|  919.999999999998|\n",
      "|[0.0,995.0,925.0,...| 989.9999999999899|\n",
      "|[0.0,1010.0,900.0...|1004.9999999999857|\n",
      "|[0.0,1050.0,1005....|1005.0000000000047|\n",
      "|[0.0,1085.0,950.0...|1010.0000000000231|\n",
      "|[0.0,1100.0,975.0...|1010.0000000000064|\n",
      "|[0.0,1120.0,1015....|1025.0000000000143|\n",
      "|[0.0,1160.0,1080....| 1080.000000000006|\n",
      "|[0.0,1185.0,1060....|1060.0000000000225|\n",
      "|[0.0,1230.0,1160....| 1180.000000000009|\n",
      "|[0.0,1240.0,1185....|1239.9999999999948|\n",
      "|[0.0,1265.0,1225....| 1225.000000000004|\n",
      "|[0.0,1265.0,1230....|1230.0000000000023|\n",
      "+--------------------+------------------+\n",
      "only showing top 20 rows\n",
      "\n"
     ]
    }
   ],
   "source": [
    "predictions.show()"
   ]
  }
 ],
 "metadata": {
  "kernelspec": {
   "display_name": "pyspark-env",
   "language": "python",
   "name": "pyspark-env"
  },
  "language_info": {
   "codemirror_mode": {
    "name": "ipython",
    "version": 3
   },
   "file_extension": ".py",
   "mimetype": "text/x-python",
   "name": "python",
   "nbconvert_exporter": "python",
   "pygments_lexer": "ipython3",
   "version": "3.11.5"
  }
 },
 "nbformat": 4,
 "nbformat_minor": 5
}
